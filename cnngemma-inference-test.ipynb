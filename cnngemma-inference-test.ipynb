{
 "cells": [
  {
   "cell_type": "code",
   "execution_count": 1,
   "id": "da9e304e",
   "metadata": {},
   "outputs": [],
   "source": [
    "import sys\n",
    "sys.path.append('./src')\n",
    "import inference\n",
    "from cnn_gemma import CNNGemmaConfig\n",
    "import json\n",
    "image_file_path = \"dataset\\\\RISCM\\\\resized\\\\NWPU_361.jpg\""
   ]
  },
  {
   "cell_type": "code",
   "execution_count": 2,
   "id": "cabf048e",
   "metadata": {},
   "outputs": [
    {
     "name": "stdout",
     "output_type": "stream",
     "text": [
      "Device in use:  cuda\n",
      "Loading model\n"
     ]
    },
    {
     "name": "stderr",
     "output_type": "stream",
     "text": [
      "c:\\Users\\USER\\anaconda3\\Lib\\site-packages\\torchvision\\models\\_utils.py:208: UserWarning: The parameter 'pretrained' is deprecated since 0.13 and may be removed in the future, please use 'weights' instead.\n",
      "  warnings.warn(\n",
      "c:\\Users\\USER\\anaconda3\\Lib\\site-packages\\torchvision\\models\\_utils.py:223: UserWarning: Arguments other than a weight enum or `None` for 'weights' are deprecated since 0.13 and may be removed in the future. The current behavior is equivalent to passing `weights=MobileNet_V3_Large_Weights.IMAGENET1K_V1`. You can also use `weights=MobileNet_V3_Large_Weights.DEFAULT` to get the most up-to-date weights.\n",
      "  warnings.warn(msg)\n",
      "Asking to truncate to max_length but no maximum length is provided and the model has no predefined maximum length. Default to no truncation.\n"
     ]
    },
    {
     "name": "stdout",
     "output_type": "stream",
     "text": [
      "Running inference\n"
     ]
    },
    {
     "data": {
      "text/plain": [
       "'some people are saying they are not'"
      ]
     },
     "execution_count": 2,
     "metadata": {},
     "output_type": "execute_result"
    }
   ],
   "source": [
    "\n",
    "with open(\"src/configs/mobilenet_multiple.json\", \"r\") as f:\n",
    "    model_config_file = json.load(f)\n",
    "\n",
    "config = CNNGemmaConfig(**model_config_file)\n",
    "inference.pg_inference(\"src/weights/pretrained\", \"caption\",image_file_path, max_tokens_to_generate=100, load_pretrained=True, config=config)"
   ]
  },
  {
   "cell_type": "code",
   "execution_count": 3,
   "id": "50b4bcc0",
   "metadata": {},
   "outputs": [
    {
     "name": "stdout",
     "output_type": "stream",
     "text": [
      "Device in use:  cuda\n",
      "Loading model\n"
     ]
    },
    {
     "name": "stderr",
     "output_type": "stream",
     "text": [
      "Asking to truncate to max_length but no maximum length is provided and the model has no predefined maximum length. Default to no truncation.\n"
     ]
    },
    {
     "name": "stdout",
     "output_type": "stream",
     "text": [
      "Running inference\n"
     ]
    },
    {
     "data": {
      "text/plain": [
       "'this is a photo of a woman'"
      ]
     },
     "execution_count": 3,
     "metadata": {},
     "output_type": "execute_result"
    }
   ],
   "source": [
    "\n",
    "with open(\"src/configs/mobilenet_single.json\", \"r\") as f:\n",
    "    model_config_file = json.load(f)\n",
    "\n",
    "config = CNNGemmaConfig(**model_config_file)\n",
    "inference.pg_inference(\"src/weights/pretrained\", \"caption\",image_file_path, max_tokens_to_generate=100, load_pretrained=True, config=config)"
   ]
  },
  {
   "cell_type": "code",
   "execution_count": 4,
   "id": "3610db4f",
   "metadata": {},
   "outputs": [
    {
     "name": "stdout",
     "output_type": "stream",
     "text": [
      "Device in use:  cuda\n",
      "Loading model\n"
     ]
    },
    {
     "name": "stderr",
     "output_type": "stream",
     "text": [
      "c:\\Users\\USER\\anaconda3\\Lib\\site-packages\\torchvision\\models\\_utils.py:223: UserWarning: Arguments other than a weight enum or `None` for 'weights' are deprecated since 0.13 and may be removed in the future. The current behavior is equivalent to passing `weights=EfficientNet_B0_Weights.IMAGENET1K_V1`. You can also use `weights=EfficientNet_B0_Weights.DEFAULT` to get the most up-to-date weights.\n",
      "  warnings.warn(msg)\n",
      "Asking to truncate to max_length but no maximum length is provided and the model has no predefined maximum length. Default to no truncation.\n"
     ]
    },
    {
     "name": "stdout",
     "output_type": "stream",
     "text": [
      "Running inference\n"
     ]
    },
    {
     "data": {
      "text/plain": [
       "'tanaka'"
      ]
     },
     "execution_count": 4,
     "metadata": {},
     "output_type": "execute_result"
    }
   ],
   "source": [
    "\n",
    "with open(\"src/configs/efficientnet_multiple.json\", \"r\") as f:\n",
    "    model_config_file = json.load(f)\n",
    "\n",
    "config = CNNGemmaConfig(**model_config_file)\n",
    "inference.pg_inference(\"src/weights/pretrained\", \"caption\",image_file_path, max_tokens_to_generate=100, load_pretrained=True, config=config)"
   ]
  },
  {
   "cell_type": "code",
   "execution_count": 5,
   "id": "e6fcb32c",
   "metadata": {},
   "outputs": [
    {
     "name": "stdout",
     "output_type": "stream",
     "text": [
      "Device in use:  cuda\n",
      "Loading model\n"
     ]
    },
    {
     "name": "stderr",
     "output_type": "stream",
     "text": [
      "Asking to truncate to max_length but no maximum length is provided and the model has no predefined maximum length. Default to no truncation.\n"
     ]
    },
    {
     "name": "stdout",
     "output_type": "stream",
     "text": [
      "Running inference\n"
     ]
    },
    {
     "data": {
      "text/plain": [
       "\"a close up of a person's face\""
      ]
     },
     "execution_count": 5,
     "metadata": {},
     "output_type": "execute_result"
    }
   ],
   "source": [
    "\n",
    "with open(\"src/configs/efficientnet_single.json\", \"r\") as f:\n",
    "    model_config_file = json.load(f)\n",
    "\n",
    "config = CNNGemmaConfig(**model_config_file)\n",
    "inference.pg_inference(\"src/weights/pretrained\", \"caption\",image_file_path, max_tokens_to_generate=100, load_pretrained=True, config=config)"
   ]
  }
 ],
 "metadata": {
  "kernelspec": {
   "display_name": "base",
   "language": "python",
   "name": "python3"
  },
  "language_info": {
   "codemirror_mode": {
    "name": "ipython",
    "version": 3
   },
   "file_extension": ".py",
   "mimetype": "text/x-python",
   "name": "python",
   "nbconvert_exporter": "python",
   "pygments_lexer": "ipython3",
   "version": "3.11.5"
  }
 },
 "nbformat": 4,
 "nbformat_minor": 5
}
