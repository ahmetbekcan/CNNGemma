{
 "cells": [
  {
   "cell_type": "code",
   "execution_count": 1,
   "id": "4ad20faf",
   "metadata": {},
   "outputs": [],
   "source": [
    "import time\n",
    "import torch\n",
    "import wandb\n",
    "\n",
    "def log_model_performance(encoder, batch_tensor, label: str, runs: int = 100):\n",
    "    device = batch_tensor.device\n",
    "    encoder.eval()\n",
    "\n",
    "    # Warm-up\n",
    "    with torch.no_grad():\n",
    "        _ = encoder(batch_tensor)\n",
    "\n",
    "    torch.cuda.synchronize(device)\n",
    "    total_time = 0\n",
    "    batch_size = batch_tensor.size(0)   \n",
    "\n",
    "    with torch.no_grad():\n",
    "        for step in range(runs):\n",
    "            start = time.time()\n",
    "            _ = encoder(batch_tensor)\n",
    "            torch.cuda.synchronize(device)\n",
    "            end = time.time()\n",
    "            total_time = (end - start)\n",
    "            throughput = batch_size / total_time\n",
    "\n",
    "            wandb.log({\n",
    "                f\"throughput_fps/{label}\": throughput\n",
    "            },step=step)"
   ]
  },
  {
   "cell_type": "code",
   "execution_count": 2,
   "id": "23446b3a",
   "metadata": {},
   "outputs": [],
   "source": [
    "import sys\n",
    "sys.path.append('./src')"
   ]
  },
  {
   "cell_type": "markdown",
   "id": "cb8d1000",
   "metadata": {},
   "source": [
    "# Logging MobileNetV3-Large"
   ]
  },
  {
   "cell_type": "code",
   "execution_count": 5,
   "id": "c46237a4",
   "metadata": {},
   "outputs": [],
   "source": [
    "from cnn_gemma import CNNImageEncoder, CNNGemmaConfig, CNNImageEncoderConfig\n",
    "import json\n",
    "import os\n",
    "\n",
    "config_folder = \"src/configs\""
   ]
  },
  {
   "cell_type": "code",
   "execution_count": null,
   "id": "6339217c",
   "metadata": {},
   "outputs": [
    {
     "name": "stdout",
     "output_type": "stream",
     "text": [
      "CNNTokenType.Multiple\n"
     ]
    },
    {
     "name": "stderr",
     "output_type": "stream",
     "text": [
      "c:\\Users\\USER\\anaconda3\\Lib\\site-packages\\torchvision\\models\\_utils.py:208: UserWarning: The parameter 'pretrained' is deprecated since 0.13 and may be removed in the future, please use 'weights' instead.\n",
      "  warnings.warn(\n",
      "c:\\Users\\USER\\anaconda3\\Lib\\site-packages\\torchvision\\models\\_utils.py:223: UserWarning: Arguments other than a weight enum or `None` for 'weights' are deprecated since 0.13 and may be removed in the future. The current behavior is equivalent to passing `weights=MobileNet_V3_Large_Weights.IMAGENET1K_V1`. You can also use `weights=MobileNet_V3_Large_Weights.DEFAULT` to get the most up-to-date weights.\n",
      "  warnings.warn(msg)\n"
     ]
    }
   ],
   "source": [
    "with open(os.path.join(config_folder, \"mobilenet_multiple.json\"), \"r\") as f:\n",
    "    model_config_file = json.load(f)\n",
    "    config = CNNGemmaConfig(**model_config_file)\n",
    "    encoder_config = config.vision_config\n",
    "\n",
    "mobilenet_encoder = CNNImageEncoder(config=encoder_config)"
   ]
  },
  {
   "cell_type": "code",
   "execution_count": null,
   "id": "2ba31f79",
   "metadata": {},
   "outputs": [],
   "source": [
    "import torch\n",
    "\n",
    "batch_size = 32\n",
    "channels = 3\n",
    "height = 224\n",
    "width = 224\n",
    "\n",
    "dummy_batch = torch.rand(batch_size, channels, height, width).to(\"cuda\")\n",
    "mobilenet_encoder.eval().to(\"cuda\")\n",
    "import wandb\n",
    "wandb.init(\n",
    "    project=\"Final-Project\",\n",
    "    name=\"mobilenetv3_run\",\n",
    "    config={\"encoder\": \"mobilenetv3\", \"batch_size\": batch_size}\n",
    ")"
   ]
  },
  {
   "cell_type": "code",
   "execution_count": null,
   "id": "0a4f1605",
   "metadata": {},
   "outputs": [],
   "source": [
    "log_model_performance(encoder=mobilenet_encoder,batch_tensor=dummy_batch,label=\"mobilenetv3_large\")"
   ]
  },
  {
   "cell_type": "markdown",
   "id": "d99dd236",
   "metadata": {},
   "source": [
    "# Logging EfficientNet"
   ]
  },
  {
   "cell_type": "code",
   "execution_count": 14,
   "id": "4c434f7b",
   "metadata": {},
   "outputs": [
    {
     "name": "stderr",
     "output_type": "stream",
     "text": [
      "c:\\Users\\USER\\anaconda3\\Lib\\site-packages\\torchvision\\models\\_utils.py:208: UserWarning: The parameter 'pretrained' is deprecated since 0.13 and may be removed in the future, please use 'weights' instead.\n",
      "  warnings.warn(\n",
      "c:\\Users\\USER\\anaconda3\\Lib\\site-packages\\torchvision\\models\\_utils.py:223: UserWarning: Arguments other than a weight enum or `None` for 'weights' are deprecated since 0.13 and may be removed in the future. The current behavior is equivalent to passing `weights=EfficientNet_B0_Weights.IMAGENET1K_V1`. You can also use `weights=EfficientNet_B0_Weights.DEFAULT` to get the most up-to-date weights.\n",
      "  warnings.warn(msg)\n"
     ]
    }
   ],
   "source": [
    "with open(os.path.join(config_folder, \"efficientnet_multiple.json\"), \"r\") as f:\n",
    "    model_config_file = json.load(f)\n",
    "    config = CNNGemmaConfig(**model_config_file)\n",
    "    encoder_config = config.vision_config\n",
    "\n",
    "efficientnet_encoder = CNNImageEncoder(config=encoder_config)"
   ]
  },
  {
   "cell_type": "code",
   "execution_count": null,
   "id": "c140d9c3",
   "metadata": {},
   "outputs": [],
   "source": [
    "import torch\n",
    "\n",
    "batch_size = 32\n",
    "channels = 3\n",
    "height = 224\n",
    "width = 224\n",
    "\n",
    "dummy_batch = torch.rand(batch_size, channels, height, width).to(\"cuda\")\n",
    "efficientnet_encoder.eval().to(\"cuda\")\n",
    "import wandb\n",
    "wandb.init(\n",
    "    project=\"Final-Project\",\n",
    "    name=\"efficientnetb0_run\",\n",
    "    config={\"encoder\": \"efficientnetb0\", \"batch_size\": batch_size}\n",
    ")"
   ]
  },
  {
   "cell_type": "code",
   "execution_count": null,
   "id": "6a1e2381",
   "metadata": {},
   "outputs": [],
   "source": [
    "log_model_performance(encoder=efficientnet_encoder,batch_tensor=dummy_batch,label=\"efficientnetb0\")"
   ]
  },
  {
   "cell_type": "markdown",
   "id": "5da4ab67",
   "metadata": {},
   "source": [
    "# Logging Siglip"
   ]
  },
  {
   "cell_type": "code",
   "execution_count": null,
   "id": "e49cae7b",
   "metadata": {},
   "outputs": [],
   "source": [
    "from siglip import SiglipVisionModel, SiglipVisionConfig\n",
    "import torch\n",
    "\n",
    "batch_size = 32\n",
    "channels = 3\n",
    "height = 224\n",
    "width = 224\n",
    "\n",
    "dummy_batch = torch.rand(batch_size, channels, height, width).to(\"cuda\")\n",
    "siglip_encoder = SiglipVisionModel(config=SiglipVisionConfig())\n",
    "siglip_encoder.eval().to(\"cuda\")\n",
    "import wandb\n",
    "wandb.init(\n",
    "    project=\"Final-Project\",\n",
    "    name=\"siglip_run\",\n",
    "    config={\"encoder\": \"siglip\", \"batch_size\": batch_size}\n",
    ")"
   ]
  },
  {
   "cell_type": "code",
   "execution_count": null,
   "id": "1cedc86a",
   "metadata": {},
   "outputs": [],
   "source": [
    "log_model_performance(encoder=siglip_encoder,batch_tensor=dummy_batch,label=\"siglip\")"
   ]
  }
 ],
 "metadata": {
  "kernelspec": {
   "display_name": "base",
   "language": "python",
   "name": "python3"
  },
  "language_info": {
   "codemirror_mode": {
    "name": "ipython",
    "version": 3
   },
   "file_extension": ".py",
   "mimetype": "text/x-python",
   "name": "python",
   "nbconvert_exporter": "python",
   "pygments_lexer": "ipython3",
   "version": "3.11.5"
  }
 },
 "nbformat": 4,
 "nbformat_minor": 5
}
