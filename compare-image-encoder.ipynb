{
 "cells": [
  {
   "cell_type": "code",
   "execution_count": null,
   "id": "4ad20faf",
   "metadata": {},
   "outputs": [],
   "source": [
    "import time\n",
    "import torch\n",
    "import wandb\n",
    "\n",
    "def log_model_performance(encoder, batch_tensor, label: str, runs: int = 100):\n",
    "    device = batch_tensor.device\n",
    "    encoder.eval()\n",
    "\n",
    "    # Warm-up\n",
    "    with torch.no_grad():\n",
    "        _ = encoder(batch_tensor)\n",
    "\n",
    "    torch.cuda.synchronize(device)\n",
    "    total_time = 0\n",
    "    batch_size = batch_tensor.size(0)   \n",
    "\n",
    "    with torch.no_grad():\n",
    "        for step in range(runs):\n",
    "            start = time.time()\n",
    "            _ = encoder(batch_tensor)\n",
    "            torch.cuda.synchronize(device)\n",
    "            end = time.time()\n",
    "            total_time = (end - start)\n",
    "            throughput = batch_size / total_time\n",
    "\n",
    "            wandb.log({\n",
    "                f\"throughput_fps/{label}\": throughput\n",
    "            },step=step)"
   ]
  },
  {
   "cell_type": "code",
   "execution_count": null,
   "id": "23446b3a",
   "metadata": {},
   "outputs": [],
   "source": [
    "import sys\n",
    "sys.path.append('./src')"
   ]
  },
  {
   "cell_type": "markdown",
   "id": "cb8d1000",
   "metadata": {},
   "source": [
    "# Logging MobileNetV3-Large"
   ]
  },
  {
   "cell_type": "code",
   "execution_count": null,
   "id": "6339217c",
   "metadata": {},
   "outputs": [],
   "source": [
    "from mobile_gemma import MobileNetImageEncoder, MobileNetConfig\n",
    "encoder = MobileNetImageEncoder(config=MobileNetConfig())"
   ]
  },
  {
   "cell_type": "code",
   "execution_count": null,
   "id": "2ba31f79",
   "metadata": {},
   "outputs": [],
   "source": [
    "import torch\n",
    "\n",
    "batch_size = 32\n",
    "channels = 3\n",
    "height = 224\n",
    "width = 224\n",
    "\n",
    "dummy_batch = torch.rand(batch_size, channels, height, width).to(\"cuda\")\n",
    "encoder.eval().to(\"cuda\")\n",
    "import wandb\n",
    "wandb.init(\n",
    "    project=\"Final-Project\",\n",
    "    name=\"mobilenetv3_run\",\n",
    "    config={\"encoder\": \"mobilenetv3\", \"batch_size\": batch_size}\n",
    ")"
   ]
  },
  {
   "cell_type": "code",
   "execution_count": 5,
   "id": "0a4f1605",
   "metadata": {},
   "outputs": [],
   "source": [
    "log_model_performance(encoder=encoder,batch_tensor=dummy_batch,label=\"mobilenetv3_large\")"
   ]
  },
  {
   "cell_type": "markdown",
   "id": "5da4ab67",
   "metadata": {},
   "source": [
    "# Logging Siglip"
   ]
  },
  {
   "cell_type": "code",
   "execution_count": null,
   "id": "e49cae7b",
   "metadata": {},
   "outputs": [],
   "source": [
    "from siglip import SiglipVisionModel, SiglipVisionConfig\n",
    "import torch\n",
    "\n",
    "batch_size = 32\n",
    "channels = 3\n",
    "height = 224\n",
    "width = 224\n",
    "\n",
    "dummy_batch = torch.rand(batch_size, channels, height, width).to(\"cuda\")\n",
    "siglip_encoder = SiglipVisionModel(config=SiglipVisionConfig())\n",
    "siglip_encoder.eval().to(\"cuda\")\n",
    "import wandb\n",
    "wandb.init(\n",
    "    project=\"Final-Project\",\n",
    "    name=\"siglip_run\",\n",
    "    config={\"encoder\": \"siglip\", \"batch_size\": batch_size}\n",
    ")"
   ]
  },
  {
   "cell_type": "code",
   "execution_count": null,
   "id": "1cedc86a",
   "metadata": {},
   "outputs": [],
   "source": [
    "log_model_performance(encoder=siglip_encoder,batch_tensor=dummy_batch,label=\"siglip\")"
   ]
  }
 ],
 "metadata": {
  "kernelspec": {
   "display_name": "base",
   "language": "python",
   "name": "python3"
  },
  "language_info": {
   "codemirror_mode": {
    "name": "ipython",
    "version": 3
   },
   "file_extension": ".py",
   "mimetype": "text/x-python",
   "name": "python",
   "nbconvert_exporter": "python",
   "pygments_lexer": "ipython3",
   "version": "3.11.5"
  }
 },
 "nbformat": 4,
 "nbformat_minor": 5
}
